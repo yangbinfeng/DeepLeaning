{
 "cells": [
  {
   "cell_type": "code",
   "execution_count": 1,
   "metadata": {},
   "outputs": [
    {
     "name": "stderr",
     "output_type": "stream",
     "text": [
      "Using TensorFlow backend.\n"
     ]
    }
   ],
   "source": [
    "# -*- coding: utf-8 -*-\n",
    "\n",
    "import os\n",
    "import sys\n",
    "import numpy as np\n",
    "import cv2\n",
    "from keras.utils import np_utils\n",
    "IMAGE_SIZE = 96\n",
    "path_name=\"/Users/yangbinfeng/Downloads/python入门/traindata/\"\n",
    "#按照指定图像大小调整尺寸\n",
    "def resize_image(image, height = IMAGE_SIZE, width = IMAGE_SIZE):\n",
    "    top, bottom, left, right = (0, 0, 0, 0)\n",
    "    \n",
    "    #获取图像尺寸\n",
    "    h, w, _ = image.shape\n",
    "    \n",
    "    #对于长宽不相等的图片，找到最长的一边\n",
    "    longest_edge = max(h, w)    \n",
    "    \n",
    "    #计算短边需要增加多上像素宽度使其与长边等长\n",
    "    if h < longest_edge:\n",
    "        dh = longest_edge - h\n",
    "        top = dh // 2\n",
    "        bottom = dh - top\n",
    "    elif w < longest_edge:\n",
    "        dw = longest_edge - w\n",
    "        left = dw // 2\n",
    "        right = dw - left\n",
    "    else:\n",
    "        pass \n",
    "    \n",
    "    #RGB颜色\n",
    "    BLACK = [0, 0, 0]\n",
    "    \n",
    "    #给图像增加边界，是图片长、宽等长，cv2.BORDER_CONSTANT指定边界颜色由value指定\n",
    "    constant = cv2.copyMakeBorder(image, top , bottom, left, right, cv2.BORDER_CONSTANT, value = BLACK)\n",
    "    \n",
    "    #调整图像大小并返回\n",
    "    return cv2.resize(constant, (height, width))\n",
    "\n",
    "#读取训练数据\n",
    "images = []\n",
    "labels = []\n",
    "def read_path(path_name):    \n",
    "    for dir_item in os.listdir(path_name):\n",
    "        #从初始路径开始叠加，合并成可识别的操作路径\n",
    "        full_path = os.path.abspath(os.path.join(path_name, dir_item))\n",
    "        \n",
    "        if os.path.isdir(full_path):    #如果是文件夹，继续递归调用\n",
    "            read_path(full_path)\n",
    "        else:   #文件\n",
    "            if dir_item.endswith('.jpg'):\n",
    "                image = cv2.imread(full_path)                \n",
    "                image = resize_image(image, IMAGE_SIZE, IMAGE_SIZE)\n",
    "                \n",
    "                #放开这个代码，可以看到resize_image()函数的实际调用效果\n",
    "                #cv2.imwrite('1.jpg', image)\n",
    "                \n",
    "                images.append(image)                \n",
    "                labels.append(path_name)                                \n",
    "                    \n",
    "    return images,labels\n",
    "    \n",
    "\n",
    "#从指定路径读取训练数据\n",
    "def load_dataset(path_name):\n",
    "    \n",
    "    images,labels = read_path(path_name)    \n",
    "    \n",
    "    #将输入的所有图片转成四维数组，尺寸为(图片数量*IMAGE_SIZE*IMAGE_SIZE*3)\n",
    "    #我和闺女两个人共1200张图片，IMAGE_SIZE为64，故对我来说尺寸为1200 * 64 * 64 * 3\n",
    "    #图片为64 * 64像素,一个像素3个颜色值(RGB)\n",
    "    images = np.array(images)\n",
    "    #print(images.shape)    \n",
    "    \n",
    "    #标注数据，'me'文件夹下都是我的脸部图像，全部指定为0，另外一个文件夹下是闺女的，全部指定为1\n",
    "    labels = np.array([0 if label.endswith('me') else 1 for label in labels])    \n",
    "    labels = np_utils.to_categorical(labels, 2)\n",
    "    return images, labels\n",
    "images, labels=load_dataset(path_name)\n",
    "np.save(\"images.npy\",images)\n",
    "np.save(\"labels.npy\",labels)"
   ]
  },
  {
   "cell_type": "code",
   "execution_count": null,
   "metadata": {
    "collapsed": true
   },
   "outputs": [],
   "source": []
  }
 ],
 "metadata": {
  "kernelspec": {
   "display_name": "Python 3",
   "language": "python",
   "name": "python3"
  },
  "language_info": {
   "codemirror_mode": {
    "name": "ipython",
    "version": 3
   },
   "file_extension": ".py",
   "mimetype": "text/x-python",
   "name": "python",
   "nbconvert_exporter": "python",
   "pygments_lexer": "ipython3",
   "version": "3.6.3"
  }
 },
 "nbformat": 4,
 "nbformat_minor": 2
}
