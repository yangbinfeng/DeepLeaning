{
 "cells": [
  {
   "cell_type": "code",
   "execution_count": 1,
   "metadata": {},
   "outputs": [
    {
     "name": "stderr",
     "output_type": "stream",
     "text": [
      "Using TensorFlow backend.\n",
      "/Users/yangbinfeng/anaconda3/lib/python3.6/site-packages/matplotlib/pyplot.py:523: RuntimeWarning: More than 20 figures have been opened. Figures created through the pyplot interface (`matplotlib.pyplot.figure`) are retained until explicitly closed and may consume too much memory. (To control this warning, see the rcParam `figure.max_open_warning`).\n",
      "  max_open_warning, RuntimeWarning)\n"
     ]
    },
    {
     "name": "stdout",
     "output_type": "stream",
     "text": [
      "create_train_data done!\n",
      "create_test_data done!\n",
      "(15000, 96, 96, 3)\n",
      "(15000, 2)\n",
      "(5000, 96, 96, 3)\n",
      "(5000, 2)\n",
      "all done!\n"
     ]
    }
   ],
   "source": [
    "import numpy as np  \n",
    "import matplotlib.pyplot as plt\n",
    "import pandas as pd\n",
    "from sklearn import preprocessing\n",
    "from keras.utils import np_utils\n",
    "from keras.preprocessing.image import img_to_array\n",
    "import cv2\n",
    "\n",
    "data_train = pd.read_csv(\"train.csv\")\n",
    "data_test = pd.read_csv(\"test.csv\")\n",
    "\n",
    "def create_train_data():\n",
    "    train_datas=[]\n",
    "    train_labels=[]\n",
    "    train_labels=data_train['80'].values\n",
    "    train_labels = np_utils.to_categorical(train_labels, 2)\n",
    "    np.save(\"train_labels.npy\",train_labels)\n",
    "    del data_train['80']\n",
    "    for i in range(data_train.shape[0]):\n",
    "        x=np.arange(80)\n",
    "        y=data_train.iloc[i].values\n",
    "        fig=plt.figure(figsize=(0.96,0.96))  \n",
    "        plt.plot(x,y,'k-')\n",
    "        plt.axis('off')\n",
    "        savedir = \"./train/\" + str(i)+\".png\"\n",
    "        fig.savefig(savedir, dpi=100) \n",
    "        image = cv2.imread(\"./train/\" + str(i)+\".png\") \n",
    "        #image_gray = cv2.cvtColor(image, cv2.COLOR_BGR2GRAY)\n",
    "        img = img_to_array(image)\n",
    "        train_datas.append(img)\n",
    "    np.save('train_data.npy', train_datas)\n",
    "    print(\"create_train_data done!\")\n",
    "    return train_datas,train_labels\n",
    "def create_test_data():\n",
    "    test_datas=[]\n",
    "    test_labels=[]\n",
    "    test_labels=data_test['80'].values\n",
    "    test_labels = np_utils.to_categorical(test_labels, 2)\n",
    "    np.save(\"test_labels\",test_labels)\n",
    "    del data_test['80']\n",
    "    for i in range(data_test.shape[0]):\n",
    "        x=np.arange(80)\n",
    "        y=data_test.iloc[i].values\n",
    "        fig=plt.figure(figsize=(0.96,0.96))  \n",
    "        plt.plot(x,y,'k-')\n",
    "        plt.axis('off')\n",
    "        savedir = \"./test/\" + str(i)+\".png\"\n",
    "        fig.savefig(savedir, dpi=100)\n",
    "        image = cv2.imread(\"./test/\" + str(i)+\".png\") \n",
    "        #image_gray = cv2.cvtColor(image, cv2.COLOR_BGR2GRAY)\n",
    "        img = img_to_array(image)\n",
    "        test_datas.append(img)\n",
    "    np.save('test_data.npy', test_datas)\n",
    "    print(\"create_test_data done!\")\n",
    "    return test_datas,test_labels\n",
    "        \n",
    "\n",
    "def load_train_data():\n",
    "    train_datas=np.load('train_data.npy')\n",
    "    train_labels=np.load(\"train_labels.npy\")\n",
    "    print(train_datas.shape)\n",
    "    print(train_labels.shape)\n",
    "    return train_datas, train_labels\n",
    "\n",
    "def load_test_data():\n",
    "    test_datas=np.load('test_data.npy')\n",
    "    test_labels=np.load(\"test_labels.npy\")\n",
    "    print(test_datas.shape)\n",
    "    print(test_labels.shape)\n",
    "    return test_datas, test_labels\n",
    "\n",
    "if __name__ == \"__main__\":\n",
    "    create_train_data()\n",
    "    create_test_data()\n",
    "    train_datas, train_labels=load_train_data()\n",
    "    test_datas, test_labels=load_test_data()\n",
    "    print(\"all done!\")"
   ]
  },
  {
   "cell_type": "code",
   "execution_count": null,
   "metadata": {
    "collapsed": true
   },
   "outputs": [],
   "source": []
  }
 ],
 "metadata": {
  "kernelspec": {
   "display_name": "Python 3",
   "language": "python",
   "name": "python3"
  },
  "language_info": {
   "codemirror_mode": {
    "name": "ipython",
    "version": 3
   },
   "file_extension": ".py",
   "mimetype": "text/x-python",
   "name": "python",
   "nbconvert_exporter": "python",
   "pygments_lexer": "ipython3",
   "version": "3.6.3"
  }
 },
 "nbformat": 4,
 "nbformat_minor": 2
}
