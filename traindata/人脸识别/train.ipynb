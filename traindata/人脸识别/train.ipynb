{
 "cells": [
  {
   "cell_type": "code",
   "execution_count": 1,
   "metadata": {},
   "outputs": [
    {
     "name": "stderr",
     "output_type": "stream",
     "text": [
      "Using TensorFlow backend.\n",
      "/Users/yangbinfeng/anaconda3/lib/python3.6/site-packages/sklearn/cross_validation.py:41: DeprecationWarning: This module was deprecated in version 0.18 in favor of the model_selection module into which all the refactored classes and functions are moved. Also note that the interface of the new CV iterators are different from that of this module. This module will be removed in 0.20.\n",
      "  \"This module will be removed in 0.20.\", DeprecationWarning)\n"
     ]
    },
    {
     "name": "stdout",
     "output_type": "stream",
     "text": [
      "train.......\n",
      "Train on 1600 samples, validate on 400 samples\n",
      "Epoch 1/5\n",
      "1600/1600 [==============================] - 305s 190ms/step - loss: 0.2431 - acc: 0.9769 - val_loss: 1.1921e-07 - val_acc: 1.0000\n",
      "Epoch 2/5\n",
      "1600/1600 [==============================] - 333s 208ms/step - loss: 0.0277 - acc: 0.9981 - val_loss: 1.1921e-07 - val_acc: 1.0000\n",
      "Epoch 3/5\n",
      "1600/1600 [==============================] - 344s 215ms/step - loss: 0.0139 - acc: 0.9981 - val_loss: 1.1921e-07 - val_acc: 1.0000\n",
      "Epoch 4/5\n",
      "1600/1600 [==============================] - 321s 200ms/step - loss: 9.1960e-04 - acc: 0.9994 - val_loss: 1.1921e-07 - val_acc: 1.0000\n",
      "Epoch 5/5\n",
      "1600/1600 [==============================] - 299s 187ms/step - loss: 0.0021 - acc: 0.9994 - val_loss: 1.1921e-07 - val_acc: 1.0000\n",
      "400/400 [==============================] - 65s 161ms/step\n",
      "scroe: 1.19209289551e-07 accuracy: 1.0\n"
     ]
    }
   ],
   "source": [
    "from keras.applications.vgg16 import VGG16\n",
    "from keras.preprocessing import image\n",
    "from keras.applications.vgg16 import preprocess_input\n",
    "import cv2\n",
    "import random\n",
    "from sklearn.cross_validation import train_test_split\n",
    "from keras.layers import Dense, Dropout, Activation, Flatten\n",
    "from keras.optimizers import Adam, SGD\n",
    "from keras.utils import np_utils\n",
    "from keras.models import load_model\n",
    "from keras.models import Model\n",
    "from keras import callbacks\n",
    "import numpy as np\n",
    "\n",
    "images=np.load(\"images.npy\")\n",
    "labels=np.load(\"labels.npy\")\n",
    "\n",
    "x_train, x_test, y_train, y_test = train_test_split(images, labels, test_size=0.2)\n",
    "base_model = VGG16(weights='imagenet', include_top=False,input_shape=(96, 96, 3))\n",
    "x = base_model.output\n",
    "x = Flatten()(x)\n",
    "x = Dense(512, activation='relu')(x)\n",
    "x = Dropout(0.5)(x)\n",
    "predictions = Dense(2, activation='softmax')(x)\n",
    "\n",
    "model = Model(inputs=base_model.input, outputs=predictions)\n",
    "\n",
    "for layer in base_model.layers:\n",
    "    layer.trainable = False\n",
    "\n",
    "       \n",
    "sgd = Adam(lr=0.0003) #采用SGD+momentum的优化器进行训练，首先生成一个优化器对象  \n",
    "model.compile(loss='categorical_crossentropy',\n",
    "              optimizer=sgd,\n",
    "              metrics=['accuracy'])   #完成实际的模型配置工作\n",
    "print(\"train.......\")\n",
    "tbCallbacks = callbacks.TensorBoard(log_dir='./logs', histogram_freq=1, write_graph=True, write_images=True)\n",
    "model.fit(x_train, y_train,\n",
    "          batch_size=32,epochs = 5,verbose=1,\n",
    "          validation_data=(x_test, y_test), callbacks=[tbCallbacks])\n",
    "scroe, accuracy = model.evaluate(x_test, y_test, batch_size=100)\n",
    "print('scroe:', scroe, 'accuracy:', accuracy) \n",
    "model.save(\"face_96.h5\")\n"
   ]
  },
  {
   "cell_type": "code",
   "execution_count": null,
   "metadata": {
    "collapsed": true
   },
   "outputs": [],
   "source": []
  }
 ],
 "metadata": {
  "kernelspec": {
   "display_name": "Python 3",
   "language": "python",
   "name": "python3"
  },
  "language_info": {
   "codemirror_mode": {
    "name": "ipython",
    "version": 3
   },
   "file_extension": ".py",
   "mimetype": "text/x-python",
   "name": "python",
   "nbconvert_exporter": "python",
   "pygments_lexer": "ipython3",
   "version": "3.6.3"
  }
 },
 "nbformat": 4,
 "nbformat_minor": 2
}
